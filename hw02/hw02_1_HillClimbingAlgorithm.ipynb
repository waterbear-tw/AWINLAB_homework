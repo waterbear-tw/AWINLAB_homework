{
  "nbformat": 4,
  "nbformat_minor": 0,
  "metadata": {
    "colab": {
      "provenance": []
    },
    "kernelspec": {
      "name": "python3",
      "display_name": "Python 3"
    },
    "language_info": {
      "name": "python"
    }
  },
  "cells": [
    {
      "cell_type": "markdown",
      "source": [
        "# 以爬山演算法解決Knapsack問題\n",
        "以python實作爬山演算法，對[p06](https://people.sc.fsu.edu/~jburkardt/datasets/knapsack_01/knapsack_01.html)資料集迭代100次後，得出收斂結果，並產生圖形。\n",
        "\n",
        "## HC (Hill Climbing)簡介\n",
        "進行下列操作：\n",
        "* Initilization\n",
        "  - 固定陣列大小後，在每個index隨機生成0或1，以此筆資料進行之後動作。\n",
        "* Transition\n",
        "  - 隨機置換：隨機挑選資料Index將0->1（或1->0）。\n",
        "  - 鄰近置換：隨機挑選初始index，再隨機選擇其左或右，將0->1（或1->0）。\n",
        "* Evaluation\n",
        "  - 算出profit，將用以選擇是否留下transition作為結果\n",
        "* Determination\n",
        "  - 參考evaluation結果做出留下或淘汰的決定"
      ],
      "metadata": {
        "id": "3VivkvPVJtxZ"
      }
    },
    {
      "cell_type": "code",
      "execution_count": null,
      "metadata": {
        "id": "pm1oUNJjiKcN",
        "colab": {
          "base_uri": "https://localhost:8080/",
          "height": 449
        },
        "outputId": "aee7ca06-4f92-41d7-cf41-7990cdd12e32"
      },
      "outputs": [
        {
          "output_type": "display_data",
          "data": {
            "text/plain": [
              "<Figure size 640x480 with 1 Axes>"
            ],
            "image/png": "[encoded data removed]"
          },
          "metadata": {}
        }
      ],
      "source": [
        "import random\n",
        "import matplotlib.pyplot as plt\n",
        "import numpy as np\n",
        "\n",
        "\n",
        "idx_current = 0 #記錄transition更新的index\n",
        "idx_last = 0\n",
        "\n",
        "# 初始化：生成01隨機分佈的陣列\n",
        "def initialize( data_list ):\n",
        "    initList = []\n",
        "    global idx_current, idx_last\n",
        "    idx_last = idx_current\n",
        "    idx_current = random.randint(0, len(data_list)-1)\n",
        "    for i in range(len(data_list)):\n",
        "        initList.append(random.choice([0,1]))\n",
        "    return initList\n",
        "\n",
        "# 以隨機置換的方法實行transition\n",
        "def transition_random( data_list ): #random transition\n",
        "    global idx_current, idx_last\n",
        "    hcIdx = random.randint(0, len(data_list)-1)\n",
        "    if data_list[hcIdx] == 1:\n",
        "        data_list[hcIdx] = 0\n",
        "    else:\n",
        "        data_list[hcIdx] = 1\n",
        "    idx_last = idx_current\n",
        "    idx_current = hcIdx\n",
        "    return data_list\n",
        "\n",
        "# 第二種置換方法，更改左或右index的數值\n",
        "def transition_neighbor( data_list ): #randomneighbor transition\n",
        "    global idx_current, idx_last\n",
        "    step = random.choice([-1,1])\n",
        "    idx = idx_current + step\n",
        "    if data_list[idx] == 1:\n",
        "        data_list[idx] = 0\n",
        "    else:\n",
        "        data_list[idx] = 1\n",
        "    idx_last = idx_current\n",
        "    idx_current = idx\n",
        "    return data_list\n",
        "\n",
        "\n",
        "# 計算profits，之後以determine來決定資料好壞\n",
        "def evaluate( capacity , wList, pList, dataList):\n",
        "    weight = 0\n",
        "    profit = 0\n",
        "    for i in range(len(dataList)):\n",
        "        if dataList[i] == 1:\n",
        "            weight += wList[i]\n",
        "            profit += pList[i]\n",
        "    if weight > capacity:\n",
        "        return -1\n",
        "    else:\n",
        "        return profit\n",
        "\n",
        "# 選擇要留下置換資料還是維持原樣\n",
        "def determine(org, trans, capacity, wList, pList):\n",
        "    global idx_current, idx_last\n",
        "    if evaluate(capacity, wList, pList, trans) >= evaluate(capacity, wList, pList, org):\n",
        "        return trans\n",
        "    else:\n",
        "        idx_current = idx_last\n",
        "        return org\n",
        "\n",
        "# 導入資料\n",
        "p06_c = 170\n",
        "p06_w = [41, 50, 49, 59, 55, 57, 60]\n",
        "p06_p = [442, 525, 511, 593, 546, 564, 617]\n",
        "p06_s = [0, 1, 0, 1, 0, 0, 1]\n",
        "\n",
        "origList = []\n",
        "dataList = initialize(p06_w)\n",
        "cnt = 0\n",
        "\n",
        "# 建立迭代、profit數值容器\n",
        "iterations = [0]\n",
        "profits = [0]\n",
        "## 設定迭代器數值為100\n",
        "while cnt != 100:\n",
        "    cnt+=1\n",
        "    ### 製作原資料副本\n",
        "    origList = dataList.copy()\n",
        "    ### 製作置換資料\n",
        "    dataList = transition_random(dataList)\n",
        "    ### 比較資料作出取捨\n",
        "    dataList = determine(origList, dataList, p06_c, p06_w, p06_p).copy()\n",
        "    iterations.append(cnt)\n",
        "    profits.append(evaluate(p06_c, p06_w, p06_p,dataList))\n",
        "\n",
        "# 繪製圖形\n",
        "xpoints = np.array(iterations)\n",
        "ypoints = np.array(profits)\n",
        "plt.plot(xpoints, ypoints)\n",
        "plt.xlabel('Iteration')\n",
        "plt.ylabel('Profits')\n",
        "plt.show()"
      ]
    }
  ]
}